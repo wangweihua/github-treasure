{
 "cells": [
  {
   "cell_type": "markdown",
   "metadata": {},
   "source": [
    "# 数据库\n",
    "\n",
    "有关数据库"
   ]
  },
  {
   "cell_type": "markdown",
   "metadata": {},
   "source": [
    "## longan-sqlite3\n",
    "\n",
    "更便捷更高效更轻量级的工具记录数据\n",
    "\n",
    "\n",
    " <https://github.com/myemperor/longan-sqlite3> "
   ]
  },
  {
   "cell_type": "markdown",
   "metadata": {},
   "source": [
    "## mysql-to-sqlite3\n",
    "\n",
    "转换Mysql数据库数据为sqlite3数据文件\n",
    "\n",
    "<https://github.com/techouse/mysql-to-sqlite3>"
   ]
  },
  {
   "cell_type": "markdown",
   "metadata": {},
   "source": [
    "## SQLite3-wrapper\n",
    "\n",
    "空内容\n",
    "\n",
    "<https://github.com/aandaleon/SQLite3-wrapper>"
   ]
  },
  {
   "cell_type": "markdown",
   "metadata": {},
   "source": [
    "## pgpandas\n",
    "\n",
    "Pandas/SqlAlchemy to Postgres databases.\n",
    "\n",
    "<https://github.com/bgithub1/pgpandas>"
   ]
  }
 ],
 "metadata": {
  "kernelspec": {
   "display_name": "Python 3",
   "language": "python",
   "name": "python3"
  },
  "language_info": {
   "codemirror_mode": {
    "name": "ipython",
    "version": 3
   },
   "file_extension": ".py",
   "mimetype": "text/x-python",
   "name": "python",
   "nbconvert_exporter": "python",
   "pygments_lexer": "ipython3",
   "version": "3.6.4"
  },
  "toc": {
   "base_numbering": 1,
   "nav_menu": {},
   "number_sections": true,
   "sideBar": true,
   "skip_h1_title": false,
   "title_cell": "Table of Contents",
   "title_sidebar": "Contents",
   "toc_cell": false,
   "toc_position": {},
   "toc_section_display": true,
   "toc_window_display": false
  }
 },
 "nbformat": 4,
 "nbformat_minor": 2
}
